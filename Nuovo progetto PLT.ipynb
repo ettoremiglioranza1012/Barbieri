{
 "cells": [
  {
   "cell_type": "code",
   "execution_count": null,
   "metadata": {},
   "outputs": [],
   "source": [
    "# analisi dati\n",
    "import pandas as pd \n",
    "import numpy as np\n",
    "import warnings\n",
    "\n",
    "# rappresentazione grafica \n",
    "import matplotlib.pyplot as plt\n",
    "import plotly.express as px\n",
    "import seaborn as sns\n",
    "from plotly.subplots import make_subplots\n",
    "import plotly.graph_objects as go\n",
    "\n",
    "# File Path\n",
    "DATA_PATH = \"C:/Users/ettor/OneDrive/Documenti/Python/Progetti lavoro/Progetto Tesi Barbieri/Input/\"\n",
    "#pd.options.mode.chained_assignment = None "
   ]
  },
  {
   "cell_type": "markdown",
   "metadata": {},
   "source": [
    "## ANALISI (pH, Alcol, Acidi, ecc...)"
   ]
  },
  {
   "cell_type": "code",
   "execution_count": null,
   "metadata": {},
   "outputs": [],
   "source": [
    "# carico dataset da file csv\n",
    "bf = pd.read_csv(DATA_PATH + 'Before Fermentation.csv')\n",
    "af = pd.read_csv(DATA_PATH + 'After Fermentation.csv')"
   ]
  },
  {
   "cell_type": "markdown",
   "metadata": {},
   "source": [
    "## Grafici a barre per pH, alcol, acidi, ecc..."
   ]
  },
  {
   "cell_type": "code",
   "execution_count": null,
   "metadata": {},
   "outputs": [],
   "source": [
    "# Pulizia Dataset\n",
    "bf = bf.replace(',', '.', regex=True)\n",
    "af = af.replace(',', '.', regex=True)\n",
    "bf = bf.sort_values(by='Sample BF (must)')\n",
    "af = af.sort_values(by='Sample AF(wine)')\n",
    "bf = bf[bf['Sample BF (must)'].isin(af['Sample AF(wine)'])]\n",
    "af = af[af['Sample AF(wine)'].isin(bf['Sample BF (must)'])]\n",
    "bf['Sample BF (must)'] = bf['Sample BF (must)'].astype(str)\n",
    "af['Sample AF(wine)'] = af['Sample AF(wine)'].astype(str)"
   ]
  },
  {
   "cell_type": "code",
   "execution_count": null,
   "metadata": {},
   "outputs": [],
   "source": [
    "# Categorizzazione dati\n",
    "bf_green_skins = bf[bf['Skin colour'] == 'green']\n",
    "bf_red_skins = bf[bf['Skin colour'] == 'red']\n",
    "af_green_skins = af[af['Skin colour'] == 'green']\n",
    "af_red_skins = af[af['Skin colour'] == 'red']"
   ]
  },
  {
   "cell_type": "code",
   "execution_count": null,
   "metadata": {},
   "outputs": [],
   "source": [
    "def grafici(bf_green_skins, bf_red_skins, af_green_skins, af_red_skins, column):\n",
    "\n",
    "    plt.figure(figsize=(20,15))\n",
    "\n",
    "    ax0 = plt.subplot2grid((2, 6), (0, 0), colspan=2)\n",
    "    ax1 = plt.subplot2grid((2, 6), (0, 2), colspan=4)\n",
    "    ax2 = plt.subplot2grid((2, 6), (1, 0), colspan=2)\n",
    "    ax3 = plt.subplot2grid((2, 6), (1, 2), colspan=4)\n",
    "    \n",
    "    \n",
    "    car1 = bf_green_skins[column].astype(float)\n",
    "    altezze, etichette = zip(*sorted(zip(car1, bf_green_skins['Sample BF (must)'])))\n",
    "    ax0.bar(etichette, altezze, color = 'green')\n",
    "    ax0.set_xticks(range(len(etichette)))\n",
    "    ax0.set_xticklabels(etichette, rotation=45)\n",
    "    ax0.set_title('Green Skin')\n",
    "    ax0.set_ylabel('Before Fermentation')\n",
    "\n",
    "    car2 = bf_red_skins[column].astype(float)\n",
    "    altezze, etichette = zip(*sorted(zip(car2, bf_red_skins['Sample BF (must)'])))\n",
    "    ax1.bar(etichette, altezze, color = bf_red_skins['Flesh colour'])\n",
    "    ax1.set_xticks(range(len(etichette)))\n",
    "    ax1.set_xticklabels(etichette, rotation=45)\n",
    "    ax1.set_title('Red Skin')\n",
    "\n",
    "    car3 = af_green_skins[column].astype(float)\n",
    "    altezze, etichette = zip(*sorted(zip(car3, af_green_skins['Sample AF(wine)'])))\n",
    "    ax2.bar(etichette, altezze, color = 'green')\n",
    "    ax2.set_xticks(range(len(etichette)))\n",
    "    ax2.set_xticklabels(etichette, rotation=45)\n",
    "    ax2.set_ylabel('After Fermentation')\n",
    "\n",
    "    car4 = af_red_skins[column].astype(float)\n",
    "    altezze, etichette = zip(*sorted(zip(car4, af_red_skins['Sample AF(wine)'])))\n",
    "    ax3.bar(etichette, altezze, color = af_red_skins['Flesh colour'])\n",
    "    ax3.set_xticks(range(len(etichette)))\n",
    "    ax3.set_xticklabels(etichette, rotation = 45)\n",
    "\n",
    "    plt.suptitle(column)\n",
    "    plt.tight_layout()\n",
    "    plt.show()"
   ]
  },
  {
   "cell_type": "code",
   "execution_count": null,
   "metadata": {},
   "outputs": [],
   "source": [
    "bf_loop = bf.drop(['Sample BF (must)','Skin colour','Flesh colour'], axis=1)\n",
    "\n",
    "for column in bf_loop.columns:\n",
    "    grafici(bf_green_skins, bf_red_skins,\n",
    "            af_green_skins, af_red_skins,column)"
   ]
  },
  {
   "cell_type": "markdown",
   "metadata": {},
   "source": [
    "## BoxPlot per pH, Acidi, Alcol, ecc..."
   ]
  },
  {
   "cell_type": "code",
   "execution_count": null,
   "metadata": {},
   "outputs": [],
   "source": [
    "# manipolazione dati bf\n",
    "valore_costante = 'BF'\n",
    "nuova_colonna_nome = 'Juice/Wine'\n",
    "colonna_prima = 'Sample BF (must)'\n",
    "colonna_dopo = 'Skin colour'\n",
    "indice_colonna_dopo = bf.columns.get_loc(colonna_dopo)\n",
    "bf.insert(indice_colonna_dopo, nuova_colonna_nome, valore_costante)"
   ]
  },
  {
   "cell_type": "code",
   "execution_count": null,
   "metadata": {},
   "outputs": [],
   "source": [
    "# manipolazione dati af\n",
    "valore_costante = 'AF'\n",
    "nuova_colonna_nome = 'Juice/Wine'\n",
    "colonna_prima = 'Sample AF(wine)'\n",
    "colonna_dopo = 'Skin colour'\n",
    "indice_colonna_dopo = af.columns.get_loc(colonna_dopo)\n",
    "af.insert(indice_colonna_dopo, nuova_colonna_nome, valore_costante)\n"
   ]
  },
  {
   "cell_type": "code",
   "execution_count": null,
   "metadata": {},
   "outputs": [],
   "source": [
    "# unione \n",
    "new_bf = bf.drop(['Sample BF (must)'], axis=1)\n",
    "new_af = af.drop(['Sample AF(wine)'], axis=1)\n",
    "merged_df = pd.concat([new_bf, new_af], axis=0, ignore_index=True)\n",
    "pd.set_option('display.max_rows', None)"
   ]
  },
  {
   "cell_type": "code",
   "execution_count": null,
   "metadata": {},
   "outputs": [],
   "source": [
    "# categorizzazione merged_df\n",
    "merged_df_green_skins = merged_df[merged_df['Skin colour'] == 'green']\n",
    "merged_df_red_skins = merged_df[merged_df['Skin colour'] == 'red']\n",
    "\n",
    "merged_df_green_skins_green_flesh = merged_df_green_skins[merged_df_green_skins['Flesh colour']=='green']\n",
    "merged_df_green_skins_red_flesh = merged_df_green_skins[merged_df_green_skins['Flesh colour']=='red']\n",
    "merged_df_red_skins_green_flesh = merged_df_red_skins[merged_df_red_skins['Flesh colour']=='green']\n",
    "merged_df_red_skins_red_flesh = merged_df_red_skins[merged_df_red_skins['Flesh colour']=='red']"
   ]
  },
  {
   "cell_type": "code",
   "execution_count": null,
   "metadata": {},
   "outputs": [],
   "source": [
    "# funzione boxplott per merged_df\n",
    "def grafici_box(merged_df_green_skins_green_flesh, merged_df_green_skins_red_flesh, merged_df_red_skins_green_flesh, merged_df_red_skins_red_flesh, column):\n",
    "    \n",
    "    car1 = merged_df_green_skins_green_flesh[column].astype(float)\n",
    "    sort1 =  car1.sort_values()\n",
    "    fig1 = px.box(merged_df_green_skins_green_flesh, x='Juice/Wine', y = sort1)\n",
    "    \n",
    "    car2 = merged_df_red_skins_green_flesh[column].astype(float)\n",
    "    sort2 =  car2.sort_values()\n",
    "    fig2 = px.box(merged_df_red_skins_green_flesh, x='Juice/Wine', y = sort2)\n",
    "    \n",
    "    car3 = merged_df_green_skins_red_flesh[column].astype(float)\n",
    "    sort3 =  car3.sort_values()\n",
    "    fig3 = px.box(merged_df_green_skins_red_flesh, x='Juice/Wine', y = sort3)\n",
    "    \n",
    "    car4 = merged_df_red_skins_red_flesh[column].astype(float)\n",
    "    sort4 =  car4.sort_values()\n",
    "    fig4 = px.box(merged_df_red_skins_red_flesh, x='Juice/Wine', y = sort4)\n",
    "    \n",
    "    fig = make_subplots(rows=2, cols=2, subplot_titles=('Green Skin', \"Red skin\"))\n",
    "    \n",
    "    # Aggiungi i grafici alle posizioni desiderate nella griglia\n",
    "    fig.add_trace(fig1.data[0], row=1, col=1)\n",
    "    fig.add_trace(fig2.data[0], row=1, col=2)\n",
    "    fig.add_trace(fig3.data[0], row=2, col=1)\n",
    "    fig.add_trace(fig4.data[0], row=2, col=2)\n",
    "    \n",
    "    # Imposto il layout\n",
    "    fig.update_layout(title_text=column, height = 800, width = 1200, template='plotly_white')\n",
    "    fig.update_yaxes(title_text=\"Green Flesh\", row=1, col=1)\n",
    "    fig.update_yaxes(title_text=\"Red Flesh\", row=2, col=1)\n",
    "\n",
    "    fig.show()"
   ]
  },
  {
   "cell_type": "code",
   "execution_count": null,
   "metadata": {},
   "outputs": [],
   "source": [
    "# flusso dati per funzione grafici_box \n",
    "merged_df_loop = merged_df.drop(['Juice/Wine', 'Skin colour','Flesh colour'], axis=1)\n",
    "for column in merged_df_loop.columns:\n",
    "    grafici_box(merged_df_green_skins_green_flesh, merged_df_green_skins_red_flesh,\n",
    "                 merged_df_red_skins_green_flesh, merged_df_red_skins_red_flesh,column)"
   ]
  },
  {
   "cell_type": "markdown",
   "metadata": {},
   "source": [
    "## ANALISI MOLECOLE"
   ]
  },
  {
   "cell_type": "code",
   "execution_count": null,
   "metadata": {},
   "outputs": [],
   "source": [
    "pd.set_option('display.max_rows', None)\n",
    "um = pd.read_csv(DATA_PATH + 'Ultime molecole_nuovo.csv')\n",
    "um = um.replace(',', '.', regex=True)"
   ]
  },
  {
   "cell_type": "markdown",
   "metadata": {},
   "source": [
    "## Grafici a Barre per Molecole"
   ]
  },
  {
   "cell_type": "code",
   "execution_count": null,
   "metadata": {},
   "outputs": [],
   "source": [
    "# Manipolazione dati e pulizia\n",
    "um_bf = um[um['Juice/Wine'] == 'BF']\n",
    "um_af = um[um['Juice/Wine'] == 'AF']\n",
    "um_bf = um_bf.sort_values(by='Sample Number')\n",
    "um_af = um_af.sort_values(by='Sample Number')\n",
    "um_bf['Sample Number'] = um_bf['Sample Number'].astype(str)\n",
    "um_af['Sample Number'] = um_af['Sample Number'].astype(str)"
   ]
  },
  {
   "cell_type": "code",
   "execution_count": null,
   "metadata": {},
   "outputs": [],
   "source": [
    "# Categorizzazione dati\n",
    "um_bf_green_skins = um_bf[um_bf['Skin colour'] == 'green']\n",
    "um_bf_red_skins = um_bf[um_bf['Skin colour'] == 'red']\n",
    "um_af_green_skins = um_af[um_af['Skin colour'] == 'green']\n",
    "um_af_red_skins = um_af[um_af['Skin colour'] == 'red']"
   ]
  },
  {
   "cell_type": "code",
   "execution_count": null,
   "metadata": {},
   "outputs": [],
   "source": [
    "def grafici_um(um_bf_green_skins, um_bf_red_skins, um_af_green_skins, um_af_red_skins, column):\n",
    "\n",
    "    plt.figure(figsize=(20,15))\n",
    "\n",
    "    ax0 = plt.subplot2grid((2, 6), (0, 0), colspan=2)\n",
    "    ax1 = plt.subplot2grid((2, 6), (0, 2), colspan=4)\n",
    "    ax2 = plt.subplot2grid((2, 6), (1, 0), colspan=2)\n",
    "    ax3 = plt.subplot2grid((2, 6), (1, 2), colspan=4)\n",
    "    \n",
    "    mol1 = um_bf_green_skins[column].astype(float)\n",
    "    altezze, etichette = zip(*sorted(zip(mol1, um_bf_green_skins['Sample Number'])))\n",
    "    ax0.bar(etichette, altezze, color = 'green')\n",
    "    ax0.set_xticks(range(len(etichette)))\n",
    "    ax0.set_xticklabels(etichette, rotation=45)\n",
    "    ax0.set_title('Green Skin')\n",
    "    ax0.set_ylabel('Before Fermentation')\n",
    "\n",
    "    mol2 = um_bf_red_skins[column].astype(float)\n",
    "    altezze, etichette = zip(*sorted(zip(mol2, um_bf_red_skins['Sample Number'])))\n",
    "    ax1.bar(etichette, altezze, color = um_bf_red_skins['Flesh colour'])\n",
    "    ax1.set_xticks(range(len(etichette)))\n",
    "    ax1.set_xticklabels(etichette, rotation=45)\n",
    "    ax1.set_title('Red Skin')\n",
    "\n",
    "    mol3 = um_af_green_skins[column].astype(float)\n",
    "    altezze, etichette = zip(*sorted(zip(mol3, um_af_green_skins['Sample Number'])))\n",
    "    ax2.bar(etichette, altezze, color = 'green')\n",
    "    ax2.set_xticks(range(len(etichette)))\n",
    "    ax2.set_xticklabels(etichette, rotation=45)\n",
    "    ax2.set_ylabel('After Fermentation')\n",
    "\n",
    "    mol4 = um_af_red_skins[column].astype(float)\n",
    "    altezze, etichette = zip(*sorted(zip(mol4, um_af_red_skins['Sample Number'])))\n",
    "    ax3.bar(etichette, altezze, color = um_af_red_skins['Flesh colour'])\n",
    "    ax3.set_xticks(range(len(etichette)))\n",
    "    ax3.set_xticklabels(etichette, rotation = 45)\n",
    "\n",
    "    plt.suptitle(column)\n",
    "    plt.tight_layout()\n",
    "    plt.show()"
   ]
  },
  {
   "cell_type": "code",
   "execution_count": null,
   "metadata": {},
   "outputs": [],
   "source": [
    "um_bf_loop = um_bf.drop(['Sample Number','Juice/Wine', 'Skin colour','Flesh colour'], axis=1)\n",
    "for column in um_bf_loop.columns:\n",
    "    grafici_um(um_bf_green_skins, um_bf_red_skins,\n",
    "            um_af_green_skins, um_af_red_skins, column)"
   ]
  },
  {
   "cell_type": "markdown",
   "metadata": {},
   "source": [
    "## BoxPlot per Molecole"
   ]
  },
  {
   "cell_type": "code",
   "execution_count": null,
   "metadata": {},
   "outputs": [],
   "source": [
    "um_green_skins = um[um['Skin colour'] == 'green']\n",
    "um_red_skins = um[um['Skin colour'] == 'red']\n",
    "\n",
    "um_green_skins_green_flesh = um_green_skins[um_green_skins['Flesh colour']=='green']\n",
    "um_green_skins_red_flesh = um_green_skins[um_green_skins['Flesh colour']=='red']\n",
    "um_red_skins_green_flesh = um_red_skins[um_red_skins['Flesh colour']=='green']\n",
    "um_red_skins_red_flesh = um_red_skins[um_red_skins['Flesh colour']=='red']"
   ]
  },
  {
   "cell_type": "code",
   "execution_count": null,
   "metadata": {},
   "outputs": [],
   "source": [
    "def grafici_box_um(um_green_skins_green_flesh, um_green_skins_red_flesh,um_red_skins_green_flesh,um_red_skins_red_flesh, column):\n",
    "    \n",
    "    mol1 = um_green_skins_green_flesh[column].astype(float)\n",
    "    sort1 =  mol1.sort_values()\n",
    "    fig1 = px.box(um_green_skins_green_flesh, x='Juice/Wine', y = sort1)\n",
    "    \n",
    "    mol2 = um_red_skins_green_flesh[column].astype(float)\n",
    "    sort2 =  mol2.sort_values()\n",
    "    fig2 = px.box(um_red_skins_green_flesh, x='Juice/Wine', y = sort2)\n",
    "    \n",
    "    mol3 = um_green_skins_red_flesh[column].astype(float)\n",
    "    sort3 =  mol3.sort_values()\n",
    "    fig3 = px.box(um_green_skins_red_flesh, x='Juice/Wine', y = sort3)\n",
    "    \n",
    "    mol4 = um_red_skins_red_flesh[column].astype(float)\n",
    "    sort4 =  mol4.sort_values()\n",
    "    fig4 = px.box(um_red_skins_red_flesh, x='Juice/Wine', y = sort4)\n",
    "    \n",
    "    fig = make_subplots(rows=2, cols=2, subplot_titles=('Green Skin', \"Red skin\"))\n",
    "    \n",
    "    # Aggiungi i grafici alle posizioni desiderate nella griglia\n",
    "    fig.add_trace(fig1.data[0], row=1, col=1)\n",
    "    fig.add_trace(fig2.data[0], row=1, col=2)\n",
    "    fig.add_trace(fig3.data[0], row=2, col=1)\n",
    "    fig.add_trace(fig4.data[0], row=2, col=2)\n",
    "    \n",
    "    # Imposto il layout\n",
    "    fig.update_layout(title_text=column, height = 800, width = 1200, template = 'plotly_white')\n",
    "    fig.update_yaxes(title_text=\"Green Flesh\", row=1, col=1)\n",
    "    fig.update_yaxes(title_text=\"Red Flesh\", row=2, col=1)\n",
    "\n",
    "    fig.show()"
   ]
  },
  {
   "cell_type": "code",
   "execution_count": null,
   "metadata": {},
   "outputs": [],
   "source": [
    "um_loop = um.drop(['Sample Number','Juice/Wine', 'Skin colour','Flesh colour'], axis=1)\n",
    "for column in um_loop.columns:\n",
    "    grafici_box_um(um_green_skins_green_flesh, um_green_skins_red_flesh,\n",
    "            um_red_skins_green_flesh,um_red_skins_red_flesh,\n",
    "             column)"
   ]
  }
 ],
 "metadata": {
  "kernelspec": {
   "display_name": "Python 3",
   "language": "python",
   "name": "python3"
  },
  "language_info": {
   "codemirror_mode": {
    "name": "ipython",
    "version": 3
   },
   "file_extension": ".py",
   "mimetype": "text/x-python",
   "name": "python",
   "nbconvert_exporter": "python",
   "pygments_lexer": "ipython3",
   "version": "3.11.2"
  }
 },
 "nbformat": 4,
 "nbformat_minor": 2
}
